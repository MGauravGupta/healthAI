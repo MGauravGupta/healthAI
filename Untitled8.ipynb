{
 "cells": [
  {
   "cell_type": "code",
   "execution_count": 2,
   "id": "a3308325",
   "metadata": {},
   "outputs": [
    {
     "name": "stdout",
     "output_type": "stream",
     "text": [
      "Requirement already satisfied: tensorflow in c:\\users\\gaurav gupta\\anaconda\\lib\\site-packages (2.15.0)Note: you may need to restart the kernel to use updated packages.\n",
      "\n",
      "Collecting tensorflow\n",
      "  Obtaining dependency information for tensorflow from https://files.pythonhosted.org/packages/cf/24/271e77c22724f370c24c705f394b8035b4d27e4c2c6339f3f45ab9b8258e/tensorflow-2.18.0-cp311-cp311-win_amd64.whl.metadata\n",
      "  Downloading tensorflow-2.18.0-cp311-cp311-win_amd64.whl.metadata (3.3 kB)\n",
      "Requirement already satisfied: keras in c:\\users\\gaurav gupta\\anaconda\\lib\\site-packages (2.15.0)\n",
      "Collecting keras\n",
      "  Obtaining dependency information for keras from https://files.pythonhosted.org/packages/c2/88/eef50051a772dcb4433d1f3e4c1d6576ba450fe83e89d028d7e8b85a2122/keras-3.6.0-py3-none-any.whl.metadata\n",
      "  Downloading keras-3.6.0-py3-none-any.whl.metadata (5.8 kB)\n",
      "Collecting tensorflow-intel==2.18.0 (from tensorflow)\n",
      "  Obtaining dependency information for tensorflow-intel==2.18.0 from https://files.pythonhosted.org/packages/76/ad/fa6c508a15ff79cb5409294c293388e0999b7d480f84b65e4287277434fe/tensorflow_intel-2.18.0-cp311-cp311-win_amd64.whl.metadata\n",
      "  Downloading tensorflow_intel-2.18.0-cp311-cp311-win_amd64.whl.metadata (4.9 kB)\n",
      "Requirement already satisfied: absl-py>=1.0.0 in c:\\users\\gaurav gupta\\anaconda\\lib\\site-packages (from tensorflow-intel==2.18.0->tensorflow) (2.0.0)\n",
      "Requirement already satisfied: astunparse>=1.6.0 in c:\\users\\gaurav gupta\\anaconda\\lib\\site-packages (from tensorflow-intel==2.18.0->tensorflow) (1.6.3)\n",
      "Collecting flatbuffers>=24.3.25 (from tensorflow-intel==2.18.0->tensorflow)\n",
      "  Obtaining dependency information for flatbuffers>=24.3.25 from https://files.pythonhosted.org/packages/41/f0/7e988a019bc54b2dbd0ad4182ef2d53488bb02e58694cd79d61369e85900/flatbuffers-24.3.25-py2.py3-none-any.whl.metadata\n",
      "  Downloading flatbuffers-24.3.25-py2.py3-none-any.whl.metadata (850 bytes)\n",
      "Requirement already satisfied: gast!=0.5.0,!=0.5.1,!=0.5.2,>=0.2.1 in c:\\users\\gaurav gupta\\anaconda\\lib\\site-packages (from tensorflow-intel==2.18.0->tensorflow) (0.5.4)\n",
      "Requirement already satisfied: google-pasta>=0.1.1 in c:\\users\\gaurav gupta\\anaconda\\lib\\site-packages (from tensorflow-intel==2.18.0->tensorflow) (0.2.0)\n",
      "Requirement already satisfied: libclang>=13.0.0 in c:\\users\\gaurav gupta\\anaconda\\lib\\site-packages (from tensorflow-intel==2.18.0->tensorflow) (16.0.6)\n",
      "Requirement already satisfied: opt-einsum>=2.3.2 in c:\\users\\gaurav gupta\\anaconda\\lib\\site-packages (from tensorflow-intel==2.18.0->tensorflow) (3.3.0)\n",
      "Requirement already satisfied: packaging in c:\\users\\gaurav gupta\\anaconda\\lib\\site-packages (from tensorflow-intel==2.18.0->tensorflow) (23.1)\n",
      "Requirement already satisfied: protobuf!=4.21.0,!=4.21.1,!=4.21.2,!=4.21.3,!=4.21.4,!=4.21.5,<6.0.0dev,>=3.20.3 in c:\\users\\gaurav gupta\\anaconda\\lib\\site-packages (from tensorflow-intel==2.18.0->tensorflow) (4.23.4)\n",
      "Requirement already satisfied: requests<3,>=2.21.0 in c:\\users\\gaurav gupta\\anaconda\\lib\\site-packages (from tensorflow-intel==2.18.0->tensorflow) (2.31.0)\n",
      "Requirement already satisfied: setuptools in c:\\users\\gaurav gupta\\anaconda\\lib\\site-packages (from tensorflow-intel==2.18.0->tensorflow) (68.0.0)\n",
      "Requirement already satisfied: six>=1.12.0 in c:\\users\\gaurav gupta\\anaconda\\lib\\site-packages (from tensorflow-intel==2.18.0->tensorflow) (1.16.0)\n",
      "Requirement already satisfied: termcolor>=1.1.0 in c:\\users\\gaurav gupta\\anaconda\\lib\\site-packages (from tensorflow-intel==2.18.0->tensorflow) (2.3.0)\n",
      "Requirement already satisfied: typing-extensions>=3.6.6 in c:\\users\\gaurav gupta\\anaconda\\lib\\site-packages (from tensorflow-intel==2.18.0->tensorflow) (4.12.2)\n",
      "Requirement already satisfied: wrapt>=1.11.0 in c:\\users\\gaurav gupta\\anaconda\\lib\\site-packages (from tensorflow-intel==2.18.0->tensorflow) (1.14.1)\n",
      "Requirement already satisfied: grpcio<2.0,>=1.24.3 in c:\\users\\gaurav gupta\\anaconda\\lib\\site-packages (from tensorflow-intel==2.18.0->tensorflow) (1.59.3)\n",
      "Collecting tensorboard<2.19,>=2.18 (from tensorflow-intel==2.18.0->tensorflow)\n",
      "  Obtaining dependency information for tensorboard<2.19,>=2.18 from https://files.pythonhosted.org/packages/b1/de/021c1d407befb505791764ad2cbd56ceaaa53a746baed01d2e2143f05f18/tensorboard-2.18.0-py3-none-any.whl.metadata\n",
      "  Downloading tensorboard-2.18.0-py3-none-any.whl.metadata (1.6 kB)\n",
      "Collecting numpy<2.1.0,>=1.26.0 (from tensorflow-intel==2.18.0->tensorflow)\n",
      "  Obtaining dependency information for numpy<2.1.0,>=1.26.0 from https://files.pythonhosted.org/packages/eb/57/3a3f14d3a759dcf9bf6e9eda905794726b758819df4663f217d658a58695/numpy-2.0.2-cp311-cp311-win_amd64.whl.metadata\n",
      "  Using cached numpy-2.0.2-cp311-cp311-win_amd64.whl.metadata (59 kB)\n",
      "Collecting h5py>=3.11.0 (from tensorflow-intel==2.18.0->tensorflow)\n",
      "  Obtaining dependency information for h5py>=3.11.0 from https://files.pythonhosted.org/packages/1d/4d/cbd3014eb78d1e449b29beba1f3293a841aa8086c6f7968c383c2c7ff076/h5py-3.12.1-cp311-cp311-win_amd64.whl.metadata\n",
      "  Downloading h5py-3.12.1-cp311-cp311-win_amd64.whl.metadata (2.5 kB)\n",
      "Collecting ml-dtypes<0.5.0,>=0.4.0 (from tensorflow-intel==2.18.0->tensorflow)\n",
      "  Obtaining dependency information for ml-dtypes<0.5.0,>=0.4.0 from https://files.pythonhosted.org/packages/e8/d3/ddfd9878b223b3aa9a930c6100a99afca5cfab7ea703662e00323acb7568/ml_dtypes-0.4.1-cp311-cp311-win_amd64.whl.metadata\n",
      "  Downloading ml_dtypes-0.4.1-cp311-cp311-win_amd64.whl.metadata (20 kB)\n",
      "Requirement already satisfied: tensorflow-io-gcs-filesystem>=0.23.1 in c:\\users\\gaurav gupta\\anaconda\\lib\\site-packages (from tensorflow-intel==2.18.0->tensorflow) (0.31.0)\n",
      "Requirement already satisfied: rich in c:\\users\\gaurav gupta\\anaconda\\lib\\site-packages (from keras) (13.9.2)\n",
      "Collecting namex (from keras)\n",
      "  Obtaining dependency information for namex from https://files.pythonhosted.org/packages/73/59/7854fbfb59f8ae35483ce93493708be5942ebb6328cd85b3a609df629736/namex-0.0.8-py3-none-any.whl.metadata\n",
      "  Downloading namex-0.0.8-py3-none-any.whl.metadata (246 bytes)\n",
      "Collecting optree (from keras)\n",
      "  Obtaining dependency information for optree from https://files.pythonhosted.org/packages/89/d5/a999b5e995afb98676cc5671b91b4b160e87980fb3a852d1370507614ca1/optree-0.13.0-cp311-cp311-win_amd64.whl.metadata\n",
      "  Downloading optree-0.13.0-cp311-cp311-win_amd64.whl.metadata (48 kB)\n",
      "     ---------------------------------------- 0.0/48.7 kB ? eta -:--:--\n",
      "     ---------------------------------------- 48.7/48.7 kB 2.4 MB/s eta 0:00:00\n",
      "Requirement already satisfied: markdown-it-py>=2.2.0 in c:\\users\\gaurav gupta\\anaconda\\lib\\site-packages (from rich->keras) (2.2.0)\n",
      "Requirement already satisfied: pygments<3.0.0,>=2.13.0 in c:\\users\\gaurav gupta\\anaconda\\lib\\site-packages (from rich->keras) (2.15.1)\n",
      "Requirement already satisfied: wheel<1.0,>=0.23.0 in c:\\users\\gaurav gupta\\anaconda\\lib\\site-packages (from astunparse>=1.6.0->tensorflow-intel==2.18.0->tensorflow) (0.38.4)\n",
      "Requirement already satisfied: mdurl~=0.1 in c:\\users\\gaurav gupta\\anaconda\\lib\\site-packages (from markdown-it-py>=2.2.0->rich->keras) (0.1.0)\n",
      "Requirement already satisfied: charset-normalizer<4,>=2 in c:\\users\\gaurav gupta\\anaconda\\lib\\site-packages (from requests<3,>=2.21.0->tensorflow-intel==2.18.0->tensorflow) (2.0.4)\n",
      "Requirement already satisfied: idna<4,>=2.5 in c:\\users\\gaurav gupta\\anaconda\\lib\\site-packages (from requests<3,>=2.21.0->tensorflow-intel==2.18.0->tensorflow) (3.4)\n",
      "Requirement already satisfied: urllib3<3,>=1.21.1 in c:\\users\\gaurav gupta\\anaconda\\lib\\site-packages (from requests<3,>=2.21.0->tensorflow-intel==2.18.0->tensorflow) (1.26.16)\n",
      "Requirement already satisfied: certifi>=2017.4.17 in c:\\users\\gaurav gupta\\anaconda\\lib\\site-packages (from requests<3,>=2.21.0->tensorflow-intel==2.18.0->tensorflow) (2023.7.22)\n",
      "Requirement already satisfied: markdown>=2.6.8 in c:\\users\\gaurav gupta\\anaconda\\lib\\site-packages (from tensorboard<2.19,>=2.18->tensorflow-intel==2.18.0->tensorflow) (3.4.1)\n",
      "Requirement already satisfied: tensorboard-data-server<0.8.0,>=0.7.0 in c:\\users\\gaurav gupta\\anaconda\\lib\\site-packages (from tensorboard<2.19,>=2.18->tensorflow-intel==2.18.0->tensorflow) (0.7.2)\n",
      "Requirement already satisfied: werkzeug>=1.0.1 in c:\\users\\gaurav gupta\\anaconda\\lib\\site-packages (from tensorboard<2.19,>=2.18->tensorflow-intel==2.18.0->tensorflow) (2.2.3)\n",
      "Requirement already satisfied: MarkupSafe>=2.1.1 in c:\\users\\gaurav gupta\\anaconda\\lib\\site-packages (from werkzeug>=1.0.1->tensorboard<2.19,>=2.18->tensorflow-intel==2.18.0->tensorflow) (2.1.1)\n",
      "Downloading tensorflow-2.18.0-cp311-cp311-win_amd64.whl (7.5 kB)\n",
      "Downloading tensorflow_intel-2.18.0-cp311-cp311-win_amd64.whl (390.2 MB)\n",
      "   ---------------------------------------- 0.0/390.2 MB ? eta -:--:--\n",
      "   ---------------------------------------- 0.4/390.2 MB 8.7 MB/s eta 0:00:45\n",
      "   ---------------------------------------- 2.0/390.2 MB 25.2 MB/s eta 0:00:16\n",
      "   ---------------------------------------- 4.2/390.2 MB 29.9 MB/s eta 0:00:13\n",
      "   ---------------------------------------- 4.4/390.2 MB 23.4 MB/s eta 0:00:17\n",
      "    --------------------------------------- 7.6/390.2 MB 35.0 MB/s eta 0:00:11\n",
      "   - -------------------------------------- 9.8/390.2 MB 37.1 MB/s eta 0:00:11\n",
      "   - -------------------------------------- 12.0/390.2 MB 43.7 MB/s eta 0:00:09\n",
      "   - -------------------------------------- 14.1/390.2 MB 43.7 MB/s eta 0:00:09\n",
      "   - -------------------------------------- 16.2/390.2 MB 46.7 MB/s eta 0:00:09\n",
      "   - -------------------------------------- 18.4/390.2 MB 46.7 MB/s eta 0:00:08\n",
      "   -- ------------------------------------- 20.5/390.2 MB 46.7 MB/s eta 0:00:08\n",
      "   -- ------------------------------------- 22.7/390.2 MB 46.9 MB/s eta 0:00:08\n",
      "   -- ------------------------------------- 24.9/390.2 MB 46.9 MB/s eta 0:00:08\n",
      "   -- ------------------------------------- 27.1/390.2 MB 46.7 MB/s eta 0:00:08\n",
      "   -- ------------------------------------- 29.2/390.2 MB 46.7 MB/s eta 0:00:08\n",
      "   --- ------------------------------------ 31.4/390.2 MB 46.7 MB/s eta 0:00:08\n",
      "   --- ------------------------------------ 33.5/390.2 MB 46.7 MB/s eta 0:00:08\n",
      "   --- ------------------------------------ 35.7/390.2 MB 46.7 MB/s eta 0:00:08\n",
      "   --- ------------------------------------ 36.2/390.2 MB 46.9 MB/s eta 0:00:08\n",
      "   ---- ----------------------------------- 39.5/390.2 MB 43.7 MB/s eta 0:00:09\n",
      "   ---- ----------------------------------- 41.7/390.2 MB 43.7 MB/s eta 0:00:08\n",
      "   ---- ----------------------------------- 43.8/390.2 MB 43.7 MB/s eta 0:00:08\n",
      "   ---- ----------------------------------- 46.0/390.2 MB 43.7 MB/s eta 0:00:08\n",
      "   ---- ----------------------------------- 48.1/390.2 MB 50.4 MB/s eta 0:00:07\n",
      "   ----- ---------------------------------- 49.8/390.2 MB 43.5 MB/s eta 0:00:08\n",
      "   ----- ---------------------------------- 52.1/390.2 MB 43.5 MB/s eta 0:00:08\n",
      "   ----- ---------------------------------- 54.3/390.2 MB 43.5 MB/s eta 0:00:08\n",
      "   ----- ---------------------------------- 56.4/390.2 MB 43.7 MB/s eta 0:00:08\n",
      "   ------ --------------------------------- 58.6/390.2 MB 43.7 MB/s eta 0:00:08\n",
      "   ------ --------------------------------- 60.7/390.2 MB 46.7 MB/s eta 0:00:08\n",
      "   ------ --------------------------------- 62.8/390.2 MB 43.7 MB/s eta 0:00:08\n",
      "   ------ --------------------------------- 64.8/390.2 MB 43.7 MB/s eta 0:00:08\n",
      "   ------ --------------------------------- 66.8/390.2 MB 43.5 MB/s eta 0:00:08\n",
      "   ------- -------------------------------- 69.1/390.2 MB 43.5 MB/s eta 0:00:08\n",
      "   ------- -------------------------------- 71.1/390.2 MB 43.5 MB/s eta 0:00:08\n",
      "   ------- -------------------------------- 73.4/390.2 MB 46.9 MB/s eta 0:00:07\n",
      "   ------- -------------------------------- 75.2/390.2 MB 43.7 MB/s eta 0:00:08\n",
      "   ------- -------------------------------- 77.1/390.2 MB 43.7 MB/s eta 0:00:08\n",
      "   -------- ------------------------------- 79.1/390.2 MB 43.7 MB/s eta 0:00:08\n",
      "   -------- ------------------------------- 80.6/390.2 MB 43.7 MB/s eta 0:00:08\n",
      "   -------- ------------------------------- 82.6/390.2 MB 40.9 MB/s eta 0:00:08\n",
      "   -------- ------------------------------- 84.7/390.2 MB 43.7 MB/s eta 0:00:07\n",
      "   -------- ------------------------------- 87.0/390.2 MB 43.7 MB/s eta 0:00:07\n",
      "   --------- ------------------------------ 89.1/390.2 MB 43.5 MB/s eta 0:00:07\n",
      "   --------- ------------------------------ 91.3/390.2 MB 46.7 MB/s eta 0:00:07\n",
      "   --------- ------------------------------ 93.5/390.2 MB 46.7 MB/s eta 0:00:07\n",
      "   --------- ------------------------------ 95.6/390.2 MB 46.9 MB/s eta 0:00:07\n",
      "   ---------- ----------------------------- 97.8/390.2 MB 46.9 MB/s eta 0:00:07\n",
      "   ---------- ----------------------------- 99.9/390.2 MB 46.7 MB/s eta 0:00:07\n",
      "   ---------- ---------------------------- 102.0/390.2 MB 46.7 MB/s eta 0:00:07\n",
      "   ---------- ---------------------------- 104.1/390.2 MB 46.7 MB/s eta 0:00:07\n",
      "   ---------- ---------------------------- 106.4/390.2 MB 46.7 MB/s eta 0:00:07\n",
      "   ---------- ---------------------------- 108.1/390.2 MB 46.7 MB/s eta 0:00:07\n",
      "   ---------- ---------------------------- 109.8/390.2 MB 43.7 MB/s eta 0:00:07\n",
      "   ----------- --------------------------- 111.6/390.2 MB 46.7 MB/s eta 0:00:06\n",
      "   ----------- --------------------------- 114.2/390.2 MB 46.7 MB/s eta 0:00:06\n",
      "   ----------- --------------------------- 115.5/390.2 MB 40.9 MB/s eta 0:00:07\n",
      "   ----------- --------------------------- 117.6/390.2 MB 40.9 MB/s eta 0:00:07\n",
      "   ----------- --------------------------- 119.6/390.2 MB 40.9 MB/s eta 0:00:07\n",
      "   ------------ -------------------------- 121.7/390.2 MB 40.9 MB/s eta 0:00:07\n",
      "   ------------ -------------------------- 123.8/390.2 MB 40.9 MB/s eta 0:00:07\n",
      "   ------------ -------------------------- 125.7/390.2 MB 40.9 MB/s eta 0:00:07\n",
      "   ------------ -------------------------- 127.2/390.2 MB 40.9 MB/s eta 0:00:07\n",
      "   ------------ -------------------------- 129.3/390.2 MB 40.9 MB/s eta 0:00:07\n",
      "   ------------- ------------------------- 131.4/390.2 MB 40.9 MB/s eta 0:00:07\n",
      "   ------------- ------------------------- 133.6/390.2 MB 40.9 MB/s eta 0:00:07\n",
      "   ------------- ------------------------- 135.8/390.2 MB 40.9 MB/s eta 0:00:07\n",
      "   ------------- ------------------------- 137.6/390.2 MB 43.7 MB/s eta 0:00:06\n",
      "   ------------- ------------------------- 139.9/390.2 MB 43.7 MB/s eta 0:00:06\n",
      "   -------------- ------------------------ 141.9/390.2 MB 46.9 MB/s eta 0:00:06\n",
      "   -------------- ------------------------ 144.2/390.2 MB 43.5 MB/s eta 0:00:06\n",
      "   -------------- ------------------------ 146.0/390.2 MB 46.7 MB/s eta 0:00:06\n",
      "   -------------- ------------------------ 147.3/390.2 MB 43.7 MB/s eta 0:00:06\n",
      "   -------------- ------------------------ 149.2/390.2 MB 40.9 MB/s eta 0:00:06\n",
      "   --------------- ----------------------- 151.3/390.2 MB 40.9 MB/s eta 0:00:06\n",
      "   --------------- ----------------------- 153.5/390.2 MB 40.9 MB/s eta 0:00:06\n",
      "   --------------- ----------------------- 155.7/390.2 MB 40.9 MB/s eta 0:00:06\n",
      "   --------------- ----------------------- 157.8/390.2 MB 46.9 MB/s eta 0:00:05\n",
      "   --------------- ----------------------- 159.9/390.2 MB 46.7 MB/s eta 0:00:05\n",
      "   ---------------- ---------------------- 162.0/390.2 MB 46.7 MB/s eta 0:00:05\n",
      "   ---------------- ---------------------- 164.3/390.2 MB 46.7 MB/s eta 0:00:05\n",
      "   ---------------- ---------------------- 166.4/390.2 MB 46.7 MB/s eta 0:00:05\n",
      "   ---------------- ---------------------- 168.5/390.2 MB 46.7 MB/s eta 0:00:05\n",
      "   ----------------- --------------------- 170.7/390.2 MB 46.7 MB/s eta 0:00:05\n",
      "   ----------------- --------------------- 172.9/390.2 MB 46.9 MB/s eta 0:00:05\n",
      "   ----------------- --------------------- 175.1/390.2 MB 46.9 MB/s eta 0:00:05\n",
      "   ----------------- --------------------- 177.2/390.2 MB 46.7 MB/s eta 0:00:05\n",
      "   ----------------- --------------------- 179.2/390.2 MB 46.7 MB/s eta 0:00:05\n",
      "   ------------------ -------------------- 181.4/390.2 MB 46.7 MB/s eta 0:00:05\n",
      "   ------------------ -------------------- 183.5/390.2 MB 46.7 MB/s eta 0:00:05\n",
      "   ------------------ -------------------- 185.5/390.2 MB 43.5 MB/s eta 0:00:05\n",
      "   ------------------ -------------------- 187.6/390.2 MB 43.5 MB/s eta 0:00:05\n",
      "   ------------------ -------------------- 189.7/390.2 MB 43.7 MB/s eta 0:00:05\n",
      "   ------------------- ------------------- 191.9/390.2 MB 46.9 MB/s eta 0:00:05\n",
      "   ------------------- ------------------- 194.0/390.2 MB 43.7 MB/s eta 0:00:05\n",
      "   ------------------- ------------------- 195.5/390.2 MB 43.7 MB/s eta 0:00:05\n",
      "   ------------------- ------------------- 197.7/390.2 MB 43.7 MB/s eta 0:00:05\n",
      "   ------------------- ------------------- 199.8/390.2 MB 43.5 MB/s eta 0:00:05\n",
      "   -------------------- ------------------ 202.0/390.2 MB 43.5 MB/s eta 0:00:05\n",
      "   -------------------- ------------------ 204.3/390.2 MB 43.5 MB/s eta 0:00:05\n",
      "   -------------------- ------------------ 206.4/390.2 MB 43.7 MB/s eta 0:00:05\n",
      "   -------------------- ------------------ 208.6/390.2 MB 46.9 MB/s eta 0:00:04\n",
      "   --------------------- ----------------- 210.7/390.2 MB 46.7 MB/s eta 0:00:04\n",
      "   --------------------- ----------------- 212.9/390.2 MB 46.7 MB/s eta 0:00:04\n",
      "   --------------------- ----------------- 215.1/390.2 MB 46.7 MB/s eta 0:00:04\n",
      "   --------------------- ----------------- 217.2/390.2 MB 46.7 MB/s eta 0:00:04\n",
      "   --------------------- ----------------- 218.8/390.2 MB 43.5 MB/s eta 0:00:04\n",
      "   ---------------------- ---------------- 220.9/390.2 MB 43.5 MB/s eta 0:00:04\n",
      "   ---------------------- ---------------- 223.1/390.2 MB 43.7 MB/s eta 0:00:04\n",
      "   ---------------------- ---------------- 225.2/390.2 MB 43.7 MB/s eta 0:00:04\n",
      "   ---------------------- ---------------- 227.4/390.2 MB 43.7 MB/s eta 0:00:04\n",
      "   ---------------------- ---------------- 229.5/390.2 MB 46.7 MB/s eta 0:00:04\n",
      "   ----------------------- --------------- 231.7/390.2 MB 46.7 MB/s eta 0:00:04\n",
      "   ----------------------- --------------- 233.9/390.2 MB 46.7 MB/s eta 0:00:04\n",
      "   ----------------------- --------------- 236.0/390.2 MB 46.7 MB/s eta 0:00:04\n",
      "   ----------------------- --------------- 238.1/390.2 MB 46.7 MB/s eta 0:00:04\n",
      "   ------------------------ -------------- 240.3/390.2 MB 46.9 MB/s eta 0:00:04\n",
      "   ------------------------ -------------- 242.5/390.2 MB 46.9 MB/s eta 0:00:04\n",
      "   ------------------------ -------------- 244.6/390.2 MB 46.7 MB/s eta 0:00:04\n",
      "   ------------------------ -------------- 246.7/390.2 MB 43.7 MB/s eta 0:00:04\n",
      "   ------------------------ -------------- 248.8/390.2 MB 46.9 MB/s eta 0:00:04\n",
      "   ------------------------- ------------- 251.0/390.2 MB 43.5 MB/s eta 0:00:04\n",
      "   ------------------------- ------------- 253.2/390.2 MB 46.7 MB/s eta 0:00:03\n",
      "   ------------------------- ------------- 255.4/390.2 MB 46.7 MB/s eta 0:00:03\n",
      "   ------------------------- ------------- 257.6/390.2 MB 43.7 MB/s eta 0:00:04\n",
      "   ------------------------- ------------- 259.7/390.2 MB 43.7 MB/s eta 0:00:03\n",
      "   -------------------------- ------------ 261.9/390.2 MB 43.7 MB/s eta 0:00:03\n",
      "   -------------------------- ------------ 264.0/390.2 MB 46.9 MB/s eta 0:00:03\n",
      "   -------------------------- ------------ 266.2/390.2 MB 46.9 MB/s eta 0:00:03\n",
      "   -------------------------- ------------ 268.2/390.2 MB 46.7 MB/s eta 0:00:03\n",
      "   --------------------------- ----------- 270.4/390.2 MB 46.7 MB/s eta 0:00:03\n",
      "   --------------------------- ----------- 272.5/390.2 MB 46.7 MB/s eta 0:00:03\n",
      "   --------------------------- ----------- 274.7/390.2 MB 46.7 MB/s eta 0:00:03\n",
      "   --------------------------- ----------- 276.8/390.2 MB 46.7 MB/s eta 0:00:03\n",
      "   --------------------------- ----------- 279.0/390.2 MB 46.7 MB/s eta 0:00:03\n",
      "   ---------------------------- ---------- 280.3/390.2 MB 43.7 MB/s eta 0:00:03\n",
      "   ---------------------------- ---------- 283.0/390.2 MB 46.9 MB/s eta 0:00:03\n",
      "   ---------------------------- ---------- 285.2/390.2 MB 46.7 MB/s eta 0:00:03\n",
      "   ---------------------------- ---------- 287.3/390.2 MB 46.7 MB/s eta 0:00:03\n",
      "   ---------------------------- ---------- 289.4/390.2 MB 43.7 MB/s eta 0:00:03\n",
      "   ----------------------------- --------- 291.6/390.2 MB 46.7 MB/s eta 0:00:03\n",
      "   ----------------------------- --------- 293.8/390.2 MB 46.7 MB/s eta 0:00:03\n",
      "   ----------------------------- --------- 295.8/390.2 MB 46.7 MB/s eta 0:00:03\n",
      "   ----------------------------- --------- 298.0/390.2 MB 46.9 MB/s eta 0:00:02\n",
      "   ----------------------------- --------- 300.1/390.2 MB 43.7 MB/s eta 0:00:03\n",
      "   ------------------------------ -------- 302.2/390.2 MB 43.7 MB/s eta 0:00:03\n",
      "   ------------------------------ -------- 304.3/390.2 MB 46.9 MB/s eta 0:00:02\n",
      "   ------------------------------ -------- 306.3/390.2 MB 46.9 MB/s eta 0:00:02\n",
      "   ------------------------------ -------- 308.5/390.2 MB 46.7 MB/s eta 0:00:02\n",
      "   ------------------------------- ------- 310.5/390.2 MB 46.7 MB/s eta 0:00:02\n",
      "   ------------------------------- ------- 312.7/390.2 MB 46.7 MB/s eta 0:00:02\n",
      "   ------------------------------- ------- 314.9/390.2 MB 46.7 MB/s eta 0:00:02\n",
      "   ------------------------------- ------- 316.9/390.2 MB 46.7 MB/s eta 0:00:02\n",
      "   ------------------------------- ------- 319.1/390.2 MB 46.7 MB/s eta 0:00:02\n",
      "   -------------------------------- ------ 321.2/390.2 MB 46.9 MB/s eta 0:00:02\n",
      "   -------------------------------- ------ 323.4/390.2 MB 46.9 MB/s eta 0:00:02\n",
      "   -------------------------------- ------ 325.5/390.2 MB 46.7 MB/s eta 0:00:02\n",
      "   -------------------------------- ------ 327.8/390.2 MB 46.7 MB/s eta 0:00:02\n",
      "   -------------------------------- ------ 329.9/390.2 MB 46.7 MB/s eta 0:00:02\n",
      "   --------------------------------- ----- 332.1/390.2 MB 46.7 MB/s eta 0:00:02\n",
      "   --------------------------------- ----- 334.2/390.2 MB 46.7 MB/s eta 0:00:02\n",
      "   --------------------------------- ----- 336.3/390.2 MB 46.7 MB/s eta 0:00:02\n",
      "   --------------------------------- ----- 338.4/390.2 MB 46.9 MB/s eta 0:00:02\n",
      "   ---------------------------------- ---- 340.5/390.2 MB 46.9 MB/s eta 0:00:02\n",
      "   ---------------------------------- ---- 342.6/390.2 MB 46.7 MB/s eta 0:00:02\n",
      "   ---------------------------------- ---- 344.8/390.2 MB 46.7 MB/s eta 0:00:01\n",
      "   ---------------------------------- ---- 346.9/390.2 MB 46.7 MB/s eta 0:00:01\n",
      "   ---------------------------------- ---- 348.9/390.2 MB 43.5 MB/s eta 0:00:01\n",
      "   ---------------------------------- ---- 349.0/390.2 MB 43.5 MB/s eta 0:00:01\n",
      "   ---------------------------------- ---- 350.1/390.2 MB 34.4 MB/s eta 0:00:02\n",
      "   ----------------------------------- --- 352.2/390.2 MB 36.4 MB/s eta 0:00:02\n",
      "   ----------------------------------- --- 354.4/390.2 MB 34.4 MB/s eta 0:00:02\n",
      "   ----------------------------------- --- 356.5/390.2 MB 36.3 MB/s eta 0:00:01\n",
      "   ----------------------------------- --- 358.6/390.2 MB 36.4 MB/s eta 0:00:01\n",
      "   ------------------------------------ -- 360.7/390.2 MB 46.9 MB/s eta 0:00:01\n",
      "   ------------------------------------ -- 362.9/390.2 MB 46.7 MB/s eta 0:00:01\n",
      "   ------------------------------------ -- 364.9/390.2 MB 46.7 MB/s eta 0:00:01\n",
      "   ------------------------------------ -- 367.0/390.2 MB 46.7 MB/s eta 0:00:01\n",
      "   ------------------------------------ -- 369.2/390.2 MB 46.7 MB/s eta 0:00:01\n",
      "   ------------------------------------- - 371.5/390.2 MB 46.7 MB/s eta 0:00:01\n",
      "   ------------------------------------- - 373.6/390.2 MB 46.7 MB/s eta 0:00:01\n",
      "   ------------------------------------- - 375.8/390.2 MB 46.9 MB/s eta 0:00:01\n",
      "   ------------------------------------- - 377.8/390.2 MB 46.9 MB/s eta 0:00:01\n",
      "   ------------------------------------- - 380.0/390.2 MB 46.7 MB/s eta 0:00:01\n",
      "   --------------------------------------  382.2/390.2 MB 46.7 MB/s eta 0:00:01\n",
      "   --------------------------------------  384.3/390.2 MB 46.7 MB/s eta 0:00:01\n",
      "   --------------------------------------  386.5/390.2 MB 46.7 MB/s eta 0:00:01\n",
      "   --------------------------------------  388.7/390.2 MB 46.7 MB/s eta 0:00:01\n",
      "   --------------------------------------  390.2/390.2 MB 46.7 MB/s eta 0:00:01\n",
      "   --------------------------------------  390.2/390.2 MB 46.7 MB/s eta 0:00:01\n",
      "   --------------------------------------  390.2/390.2 MB 46.7 MB/s eta 0:00:01\n",
      "   --------------------------------------  390.2/390.2 MB 46.7 MB/s eta 0:00:01\n",
      "   --------------------------------------  390.2/390.2 MB 46.7 MB/s eta 0:00:01\n",
      "   --------------------------------------  390.2/390.2 MB 46.7 MB/s eta 0:00:01\n",
      "   --------------------------------------  390.2/390.2 MB 46.7 MB/s eta 0:00:01\n",
      "   --------------------------------------  390.2/390.2 MB 46.7 MB/s eta 0:00:01\n",
      "   --------------------------------------  390.2/390.2 MB 46.7 MB/s eta 0:00:01\n",
      "   --------------------------------------  390.2/390.2 MB 46.7 MB/s eta 0:00:01\n",
      "   --------------------------------------  390.2/390.2 MB 46.7 MB/s eta 0:00:01\n",
      "   --------------------------------------  390.2/390.2 MB 46.7 MB/s eta 0:00:01\n",
      "   --------------------------------------  390.2/390.2 MB 46.7 MB/s eta 0:00:01\n",
      "   --------------------------------------  390.2/390.2 MB 46.7 MB/s eta 0:00:01\n",
      "   --------------------------------------  390.2/390.2 MB 46.7 MB/s eta 0:00:01\n",
      "   --------------------------------------  390.2/390.2 MB 46.7 MB/s eta 0:00:01\n",
      "   --------------------------------------  390.2/390.2 MB 46.7 MB/s eta 0:00:01\n",
      "   --------------------------------------  390.2/390.2 MB 46.7 MB/s eta 0:00:01\n",
      "   --------------------------------------  390.2/390.2 MB 46.7 MB/s eta 0:00:01\n",
      "   --------------------------------------  390.2/390.2 MB 46.7 MB/s eta 0:00:01\n",
      "   --------------------------------------  390.2/390.2 MB 46.7 MB/s eta 0:00:01\n",
      "   ---------------------------------------- 390.2/390.2 MB 4.3 MB/s eta 0:00:00\n",
      "Downloading keras-3.6.0-py3-none-any.whl (1.2 MB)\n",
      "   ---------------------------------------- 0.0/1.2 MB ? eta -:--:--\n",
      "   ---------------------------------------- 1.2/1.2 MB 78.7 MB/s eta 0:00:00\n",
      "Downloading h5py-3.12.1-cp311-cp311-win_amd64.whl (3.0 MB)\n",
      "   ---------------------------------------- 0.0/3.0 MB ? eta -:--:--\n",
      "   -------------------- ------------------- 1.5/3.0 MB 49.2 MB/s eta 0:00:01\n",
      "   ---------------------------------------- 3.0/3.0 MB 38.4 MB/s eta 0:00:00\n",
      "Downloading ml_dtypes-0.4.1-cp311-cp311-win_amd64.whl (126 kB)\n",
      "   ---------------------------------------- 0.0/126.7 kB ? eta -:--:--\n",
      "   ---------------------------------------- 126.7/126.7 kB ? eta 0:00:00\n",
      "Using cached numpy-2.0.2-cp311-cp311-win_amd64.whl (15.9 MB)\n",
      "Downloading namex-0.0.8-py3-none-any.whl (5.8 kB)\n",
      "Downloading optree-0.13.0-cp311-cp311-win_amd64.whl (283 kB)\n",
      "   ---------------------------------------- 0.0/283.7 kB ? eta -:--:--\n",
      "   --------------------------------------- 283.7/283.7 kB 18.2 MB/s eta 0:00:00\n",
      "Downloading flatbuffers-24.3.25-py2.py3-none-any.whl (26 kB)\n",
      "Downloading tensorboard-2.18.0-py3-none-any.whl (5.5 MB)\n",
      "   ---------------------------------------- 0.0/5.5 MB ? eta -:--:--\n",
      "   -------------- ------------------------- 1.9/5.5 MB 31.1 MB/s eta 0:00:01\n",
      "   --------------------------- ------------ 3.8/5.5 MB 40.2 MB/s eta 0:00:01\n",
      "   ---------------------------------------  5.5/5.5 MB 38.9 MB/s eta 0:00:01\n",
      "   ---------------------------------------- 5.5/5.5 MB 35.2 MB/s eta 0:00:00\n",
      "Installing collected packages: namex, flatbuffers, optree, numpy, tensorboard, ml-dtypes, h5py, keras, tensorflow-intel, tensorflow\n",
      "  Attempting uninstall: flatbuffers\n",
      "    Found existing installation: flatbuffers 23.5.26\n",
      "    Uninstalling flatbuffers-23.5.26:\n",
      "      Successfully uninstalled flatbuffers-23.5.26\n",
      "  Attempting uninstall: numpy\n",
      "    Found existing installation: numpy 1.23.5\n",
      "    Uninstalling numpy-1.23.5:\n",
      "      Successfully uninstalled numpy-1.23.5\n"
     ]
    },
    {
     "name": "stderr",
     "output_type": "stream",
     "text": [
      "ERROR: Could not install packages due to an OSError: [WinError 5] Access is denied: 'C:\\\\Users\\\\Gaurav Gupta\\\\anaconda\\\\Lib\\\\site-packages\\\\~~mpy\\\\.libs\\\\libopenblas.FB5AE2TYXYH2IJRDKGDGQ3XBKLKTF43H.gfortran-win_amd64.dll'\n",
      "Consider using the `--user` option or check the permissions.\n",
      "\n"
     ]
    }
   ],
   "source": [
    "pip install --upgrade tensorflow keras"
   ]
  },
  {
   "cell_type": "code",
   "execution_count": 5,
   "id": "4b7103eb",
   "metadata": {},
   "outputs": [],
   "source": [
    "import warnings\n",
    "warnings.filterwarnings(\"ignore\", category=DeprecationWarning)\n"
   ]
  },
  {
   "cell_type": "code",
   "execution_count": 29,
   "id": "684dcc13",
   "metadata": {},
   "outputs": [],
   "source": [
    "# Cell 1: Import Libraries\n",
    "import PyPDF2\n",
    "\n",
    "import sqlite3\n",
    "from transformers import pipeline, AutoTokenizer, AutoModelForTokenClassification, AutoModelForSequenceClassification, AutoModelForCausalLM\n",
    "from IPython.display import display\n",
    "import ipywidgets as widgets"
   ]
  },
  {
   "cell_type": "code",
   "execution_count": 23,
   "id": "6fa5bf7d",
   "metadata": {},
   "outputs": [],
   "source": [
    "# Cell 2: Text Extraction Functions\n",
    "def extract_text_from_pdf(file_path):\n",
    "    with open(file_path, 'rb') as file:\n",
    "        reader = PyPDF2.PdfReader(file)\n",
    "        text = \"\"\n",
    "        for page in reader.pages:\n",
    "            text += page.extract_text()\n",
    "        return text\n",
    "\n",
    "def extract_text_from_txt(file_path):\n",
    "    with open(file_path, 'r') as file:\n",
    "        text = file.read()\n",
    "        return text\n"
   ]
  },
  {
   "cell_type": "code",
   "execution_count": 6,
   "id": "2afdea24",
   "metadata": {},
   "outputs": [
    {
     "data": {
      "application/vnd.jupyter.widget-view+json": {
       "model_id": "984e50d610124671944c2acd8cbeff16",
       "version_major": 2,
       "version_minor": 0
      },
      "text/plain": [
       "Downloading config.json:   0%|          | 0.00/385 [00:00<?, ?B/s]"
      ]
     },
     "metadata": {},
     "output_type": "display_data"
    },
    {
     "name": "stderr",
     "output_type": "stream",
     "text": [
      "C:\\Users\\Gaurav Gupta\\anaconda\\Lib\\site-packages\\huggingface_hub\\file_download.py:133: UserWarning: `huggingface_hub` cache-system uses symlinks by default to efficiently store duplicated files but your machine does not support them in C:\\Users\\Gaurav Gupta\\.cache\\huggingface\\hub. Caching files will still work but in a degraded version that might require more space on your disk. This warning can be disabled by setting the `HF_HUB_DISABLE_SYMLINKS_WARNING` environment variable. For more details, see https://huggingface.co/docs/huggingface_hub/how-to-cache#limitations.\n",
      "To support symlinks on Windows, you either need to activate Developer Mode or to run Python as an administrator. In order to see activate developer mode, see this article: https://docs.microsoft.com/en-us/windows/apps/get-started/enable-your-device-for-development\n",
      "  warnings.warn(message)\n"
     ]
    },
    {
     "data": {
      "application/vnd.jupyter.widget-view+json": {
       "model_id": "f5ce1a691195425aa4bae1173daa3867",
       "version_major": 2,
       "version_minor": 0
      },
      "text/plain": [
       "Downloading vocab.txt:   0%|          | 0.00/213k [00:00<?, ?B/s]"
      ]
     },
     "metadata": {},
     "output_type": "display_data"
    },
    {
     "data": {
      "application/vnd.jupyter.widget-view+json": {
       "model_id": "c2fa099e691243d696a47a5698f79992",
       "version_major": 2,
       "version_minor": 0
      },
      "text/plain": [
       "Downloading pytorch_model.bin:   0%|          | 0.00/436M [00:00<?, ?B/s]"
      ]
     },
     "metadata": {},
     "output_type": "display_data"
    },
    {
     "name": "stderr",
     "output_type": "stream",
     "text": [
      "Some weights of BertForTokenClassification were not initialized from the model checkpoint at emilyalsentzer/Bio_ClinicalBERT and are newly initialized: ['classifier.bias', 'classifier.weight']\n",
      "You should probably TRAIN this model on a down-stream task to be able to use it for predictions and inference.\n"
     ]
    }
   ],
   "source": [
    "# Cell 2: Symptom Extraction with Hugging Face (BioBERT)\n",
    "# Load a pre-trained BioBERT model for medical symptom extraction\n",
    "tokenizer_biobert = AutoTokenizer.from_pretrained(\"emilyalsentzer/Bio_ClinicalBERT\")\n",
    "model_biobert = AutoModelForTokenClassification.from_pretrained(\"emilyalsentzer/Bio_ClinicalBERT\")\n",
    "\n",
    "nlp_symptom_extraction = pipeline(\"ner\", model=model_biobert, tokenizer=tokenizer_biobert)\n",
    "\n",
    "def extract_symptoms_with_huggingface(text):\n",
    "    entities = nlp_symptom_extraction(text)\n",
    "    symptoms = []\n",
    "    \n",
    "    for entity in entities:\n",
    "        if entity['entity'] == 'SYMPTOM':  # This would be trained to detect symptoms\n",
    "            symptoms.append(entity['word'])\n",
    "    \n",
    "    return symptoms\n",
    "\n"
   ]
  },
  {
   "cell_type": "code",
   "execution_count": 7,
   "id": "722eb33a",
   "metadata": {},
   "outputs": [
    {
     "data": {
      "application/vnd.jupyter.widget-view+json": {
       "model_id": "25070378052245c494442e220cbd62c3",
       "version_major": 2,
       "version_minor": 0
      },
      "text/plain": [
       "Downloading config.json:   0%|          | 0.00/1.58k [00:00<?, ?B/s]"
      ]
     },
     "metadata": {},
     "output_type": "display_data"
    },
    {
     "data": {
      "application/vnd.jupyter.widget-view+json": {
       "model_id": "e767c8c021a34c27a67eb1f57ab9533c",
       "version_major": 2,
       "version_minor": 0
      },
      "text/plain": [
       "Downloading model.safetensors:   0%|          | 0.00/1.63G [00:00<?, ?B/s]"
      ]
     },
     "metadata": {},
     "output_type": "display_data"
    },
    {
     "data": {
      "application/vnd.jupyter.widget-view+json": {
       "model_id": "ce7bfa0834774750a5421e13b0e275fb",
       "version_major": 2,
       "version_minor": 0
      },
      "text/plain": [
       "Downloading generation_config.json:   0%|          | 0.00/363 [00:00<?, ?B/s]"
      ]
     },
     "metadata": {},
     "output_type": "display_data"
    },
    {
     "data": {
      "application/vnd.jupyter.widget-view+json": {
       "model_id": "4fd3b8d8d0b9438ab70ea6b4bf6c82b9",
       "version_major": 2,
       "version_minor": 0
      },
      "text/plain": [
       "Downloading vocab.json:   0%|          | 0.00/899k [00:00<?, ?B/s]"
      ]
     },
     "metadata": {},
     "output_type": "display_data"
    },
    {
     "data": {
      "application/vnd.jupyter.widget-view+json": {
       "model_id": "3d2c8fc5126a4fd69b8d54d8607b0b46",
       "version_major": 2,
       "version_minor": 0
      },
      "text/plain": [
       "Downloading merges.txt:   0%|          | 0.00/456k [00:00<?, ?B/s]"
      ]
     },
     "metadata": {},
     "output_type": "display_data"
    },
    {
     "data": {
      "application/vnd.jupyter.widget-view+json": {
       "model_id": "fbb074e6c06945b5b588f1b431f5756b",
       "version_major": 2,
       "version_minor": 0
      },
      "text/plain": [
       "Downloading tokenizer.json:   0%|          | 0.00/1.36M [00:00<?, ?B/s]"
      ]
     },
     "metadata": {},
     "output_type": "display_data"
    }
   ],
   "source": [
    "# Cell 3: Summarization of Medical Reports\n",
    "# Load a pre-trained summarization model for medical text\n",
    "summarizer = pipeline(\"summarization\", model=\"facebook/bart-large-cnn\")\n",
    "\n",
    "def summarize_medical_report(text):\n",
    "    summary = summarizer(text, max_length=150, min_length=40, do_sample=False)\n",
    "    return summary[0]['summary_text']\n",
    "\n"
   ]
  },
  {
   "cell_type": "code",
   "execution_count": 9,
   "id": "f8ad9b35",
   "metadata": {},
   "outputs": [],
   "source": [
    "def setup_database():\n",
    "    conn = sqlite3.connect('medical_data.db')\n",
    "    c = conn.cursor()\n",
    "\n",
    "    # Create tables\n",
    "    c.execute('''CREATE TABLE IF NOT EXISTS Disease (\n",
    "                    Disease_ID INTEGER PRIMARY KEY,\n",
    "                    Disease_Name TEXT,\n",
    "                    Description TEXT\n",
    "                )''')\n",
    "\n",
    "    c.execute('''CREATE TABLE IF NOT EXISTS Symptom_Disease_Mapping (\n",
    "                    Symptom_ID TEXT,\n",
    "                    Disease_ID INTEGER,\n",
    "                    Probability REAL,\n",
    "                    PRIMARY KEY (Symptom_ID, Disease_ID),  -- Prevent duplicates here\n",
    "                    FOREIGN KEY (Disease_ID) REFERENCES Disease(Disease_ID)\n",
    "                )''')\n",
    "\n",
    "    # Insert disease data\n",
    "    try:\n",
    "        c.execute(\"INSERT INTO Disease (Disease_Name, Description) VALUES ('Hypertension', 'A condition in which the blood pressure in the arteries is elevated.')\")\n",
    "        c.execute(\"INSERT INTO Disease (Disease_Name, Description) VALUES ('Influenza', 'A viral infection that attacks the respiratory system.')\")\n",
    "    except sqlite3.IntegrityError:\n",
    "        print(\"Disease records already exist\")\n",
    "\n",
    "    # Insert symptom-disease mappings\n",
    "    mappings = [\n",
    "        ('S001', 1, 0.75),\n",
    "        ('S002', 1, 0.85),\n",
    "        ('S003', 2, 0.90)\n",
    "    ]\n",
    "\n",
    "    for mapping in mappings:\n",
    "        try:\n",
    "            c.execute(\"INSERT INTO Symptom_Disease_Mapping (Symptom_ID, Disease_ID, Probability) VALUES (?, ?, ?)\", mapping)\n",
    "        except sqlite3.IntegrityError:\n",
    "            print(f\"Mapping for Symptom_ID {mapping[0]} and Disease_ID {mapping[1]} already exists\")\n",
    "\n",
    "    conn.commit()\n",
    "    conn.close()\n"
   ]
  },
  {
   "cell_type": "code",
   "execution_count": 10,
   "id": "7cdb87b2",
   "metadata": {},
   "outputs": [
    {
     "data": {
      "application/vnd.jupyter.widget-view+json": {
       "model_id": "14f1e61fb3904d538b582ac93be7d42f",
       "version_major": 2,
       "version_minor": 0
      },
      "text/plain": [
       "Downloading tokenizer_config.json:   0%|          | 0.00/48.0 [00:00<?, ?B/s]"
      ]
     },
     "metadata": {},
     "output_type": "display_data"
    },
    {
     "data": {
      "application/vnd.jupyter.widget-view+json": {
       "model_id": "87b03072f46745e9b8bd3d9cb5d45c5d",
       "version_major": 2,
       "version_minor": 0
      },
      "text/plain": [
       "Downloading config.json:   0%|          | 0.00/570 [00:00<?, ?B/s]"
      ]
     },
     "metadata": {},
     "output_type": "display_data"
    },
    {
     "data": {
      "application/vnd.jupyter.widget-view+json": {
       "model_id": "f9ea8dfba0514613af919ac5b7039e36",
       "version_major": 2,
       "version_minor": 0
      },
      "text/plain": [
       "Downloading vocab.txt:   0%|          | 0.00/232k [00:00<?, ?B/s]"
      ]
     },
     "metadata": {},
     "output_type": "display_data"
    },
    {
     "data": {
      "application/vnd.jupyter.widget-view+json": {
       "model_id": "847793f1e9564434bf76b2d16ab0055f",
       "version_major": 2,
       "version_minor": 0
      },
      "text/plain": [
       "Downloading tokenizer.json:   0%|          | 0.00/466k [00:00<?, ?B/s]"
      ]
     },
     "metadata": {},
     "output_type": "display_data"
    },
    {
     "data": {
      "application/vnd.jupyter.widget-view+json": {
       "model_id": "a7b17fbd7039468db1ff9a6d03470444",
       "version_major": 2,
       "version_minor": 0
      },
      "text/plain": [
       "Downloading model.safetensors:   0%|          | 0.00/440M [00:00<?, ?B/s]"
      ]
     },
     "metadata": {},
     "output_type": "display_data"
    },
    {
     "name": "stderr",
     "output_type": "stream",
     "text": [
      "Some weights of BertForSequenceClassification were not initialized from the model checkpoint at bert-base-uncased and are newly initialized: ['classifier.bias', 'classifier.weight']\n",
      "You should probably TRAIN this model on a down-stream task to be able to use it for predictions and inference.\n"
     ]
    }
   ],
   "source": [
    "# Cell 5: Prediction Using Classification Model\n",
    "# Load a classification model for disease prediction\n",
    "tokenizer_classifier = AutoTokenizer.from_pretrained(\"bert-base-uncased\")\n",
    "model_classifier = AutoModelForSequenceClassification.from_pretrained(\"bert-base-uncased\")\n",
    "\n",
    "def predict_disease_from_symptoms(symptoms):\n",
    "    inputs = tokenizer_classifier(symptoms, return_tensors=\"pt\", padding=True, truncation=True)\n",
    "    outputs = model_classifier(**inputs)\n",
    "    logits = outputs.logits\n",
    "    predicted_class = logits.argmax(-1).item()\n",
    "    return predicted_class\n",
    "\n"
   ]
  },
  {
   "cell_type": "code",
   "execution_count": 11,
   "id": "8eaac5ed",
   "metadata": {},
   "outputs": [
    {
     "data": {
      "application/vnd.jupyter.widget-view+json": {
       "model_id": "a15830eeca11477a9b82ccf77a83876b",
       "version_major": 2,
       "version_minor": 0
      },
      "text/plain": [
       "Downloading config.json:   0%|          | 0.00/571 [00:00<?, ?B/s]"
      ]
     },
     "metadata": {},
     "output_type": "display_data"
    },
    {
     "data": {
      "application/vnd.jupyter.widget-view+json": {
       "model_id": "d7691cc934aa4842806047f4fc890bf1",
       "version_major": 2,
       "version_minor": 0
      },
      "text/plain": [
       "Downloading model.safetensors:   0%|          | 0.00/496M [00:00<?, ?B/s]"
      ]
     },
     "metadata": {},
     "output_type": "display_data"
    },
    {
     "data": {
      "application/vnd.jupyter.widget-view+json": {
       "model_id": "5d63a9f055a4498ab05e719ba5647498",
       "version_major": 2,
       "version_minor": 0
      },
      "text/plain": [
       "Downloading tokenizer_config.json:   0%|          | 0.00/79.0 [00:00<?, ?B/s]"
      ]
     },
     "metadata": {},
     "output_type": "display_data"
    },
    {
     "data": {
      "application/vnd.jupyter.widget-view+json": {
       "model_id": "a5496bd8af4140c3bb9ce352da59b587",
       "version_major": 2,
       "version_minor": 0
      },
      "text/plain": [
       "Downloading vocab.json:   0%|          | 0.00/899k [00:00<?, ?B/s]"
      ]
     },
     "metadata": {},
     "output_type": "display_data"
    },
    {
     "data": {
      "application/vnd.jupyter.widget-view+json": {
       "model_id": "f78f20a0ff0c45c2951a5ae0a968f85e",
       "version_major": 2,
       "version_minor": 0
      },
      "text/plain": [
       "Downloading merges.txt:   0%|          | 0.00/456k [00:00<?, ?B/s]"
      ]
     },
     "metadata": {},
     "output_type": "display_data"
    },
    {
     "data": {
      "application/vnd.jupyter.widget-view+json": {
       "model_id": "7870dcf70dcb4928aaaa0073f32b97b5",
       "version_major": 2,
       "version_minor": 0
      },
      "text/plain": [
       "Downloading (…)cial_tokens_map.json:   0%|          | 0.00/772 [00:00<?, ?B/s]"
      ]
     },
     "metadata": {},
     "output_type": "display_data"
    }
   ],
   "source": [
    "# Cell 6: Question-Answering System for Clarification\n",
    "qa_model = pipeline(\"question-answering\", model=\"deepset/roberta-base-squad2\")\n",
    "\n",
    "def ask_question_based_on_report(report_text):\n",
    "    question = \"What are the main symptoms?\"\n",
    "    response = qa_model(question=question, context=report_text)\n",
    "    return response['answer']\n",
    "\n"
   ]
  },
  {
   "cell_type": "code",
   "execution_count": 12,
   "id": "9d8662ee",
   "metadata": {},
   "outputs": [
    {
     "data": {
      "application/vnd.jupyter.widget-view+json": {
       "model_id": "1042bd12884449548aa93b77084ccde9",
       "version_major": 2,
       "version_minor": 0
      },
      "text/plain": [
       "Downloading tokenizer_config.json:   0%|          | 0.00/614 [00:00<?, ?B/s]"
      ]
     },
     "metadata": {},
     "output_type": "display_data"
    },
    {
     "data": {
      "application/vnd.jupyter.widget-view+json": {
       "model_id": "ee40f921d516481db904741e7fe26d14",
       "version_major": 2,
       "version_minor": 0
      },
      "text/plain": [
       "Downloading vocab.json:   0%|          | 0.00/1.04M [00:00<?, ?B/s]"
      ]
     },
     "metadata": {},
     "output_type": "display_data"
    },
    {
     "data": {
      "application/vnd.jupyter.widget-view+json": {
       "model_id": "59fb2679957c4871a4b49b2ac7d652da",
       "version_major": 2,
       "version_minor": 0
      },
      "text/plain": [
       "Downloading merges.txt:   0%|          | 0.00/456k [00:00<?, ?B/s]"
      ]
     },
     "metadata": {},
     "output_type": "display_data"
    },
    {
     "data": {
      "application/vnd.jupyter.widget-view+json": {
       "model_id": "4f502d40bf69478f9a898d5880c52ecd",
       "version_major": 2,
       "version_minor": 0
      },
      "text/plain": [
       "Downloading config.json:   0%|          | 0.00/641 [00:00<?, ?B/s]"
      ]
     },
     "metadata": {},
     "output_type": "display_data"
    },
    {
     "data": {
      "application/vnd.jupyter.widget-view+json": {
       "model_id": "5f4868fc0bf542ecad0af3f2a4850f42",
       "version_major": 2,
       "version_minor": 0
      },
      "text/plain": [
       "Downloading model.safetensors:   0%|          | 0.00/351M [00:00<?, ?B/s]"
      ]
     },
     "metadata": {},
     "output_type": "display_data"
    },
    {
     "data": {
      "application/vnd.jupyter.widget-view+json": {
       "model_id": "f3f2a71936bb4973919dd066ff22fbb1",
       "version_major": 2,
       "version_minor": 0
      },
      "text/plain": [
       "Downloading generation_config.json:   0%|          | 0.00/124 [00:00<?, ?B/s]"
      ]
     },
     "metadata": {},
     "output_type": "display_data"
    }
   ],
   "source": [
    "# Cell 7: Conversational AI with DialoGPT\n",
    "tokenizer_dialogpt = AutoTokenizer.from_pretrained(\"microsoft/DialoGPT-small\")\n",
    "model_dialogpt = AutoModelForCausalLM.from_pretrained(\"microsoft/DialoGPT-small\")\n",
    "\n",
    "def generate_conversational_response(user_input):\n",
    "    new_input_ids = tokenizer_dialogpt.encode(user_input + tokenizer_dialogpt.eos_token, return_tensors='pt')\n",
    "    bot_input_ids = new_input_ids\n",
    "    chat_history_ids = model_dialogpt.generate(bot_input_ids, max_length=1000, pad_token_id=tokenizer_dialogpt.eos_token_id)\n",
    "    response = tokenizer_dialogpt.decode(chat_history_ids[:, bot_input_ids.shape[-1]:][0], skip_special_tokens=True)\n",
    "    return response\n",
    "\n"
   ]
  },
  {
   "cell_type": "code",
   "execution_count": 13,
   "id": "19bae714",
   "metadata": {},
   "outputs": [],
   "source": [
    "# Cell 8: Main Diagnosis and Interaction Function\n",
    "def get_possible_diseases(symptom_ids):\n",
    "    conn = sqlite3.connect('medical_data.db')\n",
    "    c = conn.cursor()\n",
    "\n",
    "    query = f'''\n",
    "        SELECT d.Disease_Name, d.Description, s.Probability\n",
    "        FROM Symptom_Disease_Mapping s\n",
    "        JOIN Disease d ON s.Disease_ID = d.Disease_ID\n",
    "        WHERE s.Symptom_ID IN ({','.join('?' * len(symptom_ids))})\n",
    "        ORDER BY s.Probability DESC\n",
    "    '''\n",
    "    c.execute(query, symptom_ids)\n",
    "    results = c.fetchall()\n",
    "\n",
    "    if results:\n",
    "        print(\"Possible diseases based on symptoms:\")\n",
    "        for row in results:\n",
    "            print(f\"Disease: {row[0]}, Description: {row[1]}, Probability: {row[2]}\")\n",
    "    else:\n",
    "        print(\"No diseases found for the given symptoms.\")\n",
    "    \n",
    "    conn.close()\n",
    "\n"
   ]
  },
  {
   "cell_type": "code",
   "execution_count": 20,
   "id": "d09b6020",
   "metadata": {},
   "outputs": [],
   "source": [
    "import ipywidgets as widgets\n",
    "from IPython.display import display\n",
    "\n",
    "# Define file upload widget\n",
    "uploader = widgets.FileUpload(\n",
    "    accept='.txt,.pdf',  # Acceptable file types\n",
    "    multiple=False  # Disable multiple file uploads\n",
    ")\n",
    "\n",
    "# Handle uploaded file\n",
    "def handle_uploaded_file(change):\n",
    "    if uploader.value:\n",
    "        fileinfo = list(uploader.value)[0]  # Access the first dictionary directly\n",
    "        report_content = bytes(fileinfo['content'])  # Convert to byte string\n",
    "        report_text = report_content.decode('utf-8')  # Decode the byte content\n",
    "\n",
    "        symptoms = extract_symptoms_from_text(report_text)\n",
    "\n",
    "        if symptoms:\n",
    "            print(\"Symptoms extracted from report:\", symptoms)\n",
    "            get_possible_diseases(symptoms)\n",
    "        else:\n",
    "            print(\"No symptoms detected in the report. Please provide more detailed information.\")\n",
    "    else:\n",
    "        print(\"No file uploaded. Please select a file.\")\n",
    "\n",
    "uploader.observe(handle_uploaded_file, names='value')  # Observe the file upload\n",
    "\n",
    "\n"
   ]
  },
  {
   "cell_type": "code",
   "execution_count": 37,
   "id": "696e7b93",
   "metadata": {},
   "outputs": [
    {
     "name": "stdout",
     "output_type": "stream",
     "text": [
      "Welcome to the Medical Diagnosis System\n",
      "Enter '1' for manual input of symptoms, '2' to upload a health checkup report, or 'q' to quit: 3\n",
      "Invalid option. Please enter '1', '2', or 'q'.\n",
      "Do you have any more questions or symptoms to add? (yes/no): yes\n",
      "Enter '1' for manual input of symptoms, '2' to upload a health checkup report, or 'q' to quit: 1\n",
      "Enter symptom IDs separated by commas (e.g., S001,S002): S001\n",
      "Possible diseases based on symptoms:\n",
      "Disease: Diabetes Mellitus, Description: A chronic condition that affects how your body processes sugar., Probability: 0.85\n",
      "Do you have any more questions or symptoms to add? (yes/no): NO\n",
      "Thank you for using the Medical Diagnosis System. Goodbye!\n"
     ]
    }
   ],
   "source": [
    "def main():\n",
    "    print(\"Welcome to the Medical Diagnosis System\")\n",
    "    \n",
    "    while True:  # Start an infinite loop for conversation\n",
    "        option = input(\"Enter '1' for manual input of symptoms, '2' to upload a health checkup report, or 'q' to quit: \")\n",
    "\n",
    "        if option == '1':\n",
    "            symptoms_input = input(\"Enter symptom IDs separated by commas (e.g., S001,S002): \").split(',')\n",
    "            get_possible_diseases(symptoms_input)\n",
    "        \n",
    "        elif option == '2':\n",
    "            # Create file upload widget\n",
    "            uploader = widgets.FileUpload(\n",
    "                accept='.txt,.pdf',  # Acceptable file types\n",
    "                multiple=False  # Disable multiple file uploads\n",
    "            )\n",
    "            \n",
    "            display(uploader)\n",
    "            uploader.observe(handle_uploaded_file, names='value')\n",
    "\n",
    "        elif option.lower() == 'q':  # Allow the user to quit the conversation\n",
    "            print(\"Thank you for using the Medical Diagnosis System. Goodbye!\")\n",
    "            break\n",
    "        \n",
    "        else:\n",
    "            print(\"Invalid option. Please enter '1', '2', or 'q'.\")\n",
    "        \n",
    "        follow_up = input(\"Do you have any more questions or symptoms to add? (yes/no): \")\n",
    "        if follow_up.lower() != 'yes':\n",
    "            print(\"Thank you for using the Medical Diagnosis System. Goodbye!\")\n",
    "            break\n",
    "\n",
    "# Call the main function to run the application\n",
    "main()\n"
   ]
  },
  {
   "cell_type": "code",
   "execution_count": null,
   "id": "b3664232",
   "metadata": {},
   "outputs": [],
   "source": []
  }
 ],
 "metadata": {
  "kernelspec": {
   "display_name": "Python 3 (ipykernel)",
   "language": "python",
   "name": "python3"
  },
  "language_info": {
   "codemirror_mode": {
    "name": "ipython",
    "version": 3
   },
   "file_extension": ".py",
   "mimetype": "text/x-python",
   "name": "python",
   "nbconvert_exporter": "python",
   "pygments_lexer": "ipython3",
   "version": "3.11.5"
  }
 },
 "nbformat": 4,
 "nbformat_minor": 5
}
